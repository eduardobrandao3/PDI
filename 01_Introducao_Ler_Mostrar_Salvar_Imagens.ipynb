{
 "cells": [
  {
   "cell_type": "markdown",
   "id": "5cf026e4-cf1f-41a7-8651-de7edc12f4f0",
   "metadata": {},
   "source": [
    "<h1>PROCESSAMENTO DIGITAL DE IMAGENS - PDI</h1>\n",
    "<h3>INTRODUÇÃO</h3>\n",
    "<h5>Imagem:</h5>\n",
    "<p>Uma imagem é aquilo que vemos que representa algo(pode ser um desenho, registro foto-mecânico ou até mesmo pensamento). A imagem é uma função f(x, y) e antes da captura é considerada contínua em espaço e amplitude.</p>\n",
    "<p>A imagem digital é uma matriz bidimensional, onde cada elemento (\"quadradinho\") representa um pixel. O pixel assume um valor, que basicamente, representa o quanto de luminosidade aquele ponto está recebendo.</p>\n",
    "<p>Formatos comuns de imagem:\n",
    "<ul>\n",
    "    <li>1 valor por pixel ( 1 matriz - Imagem em escala de cinza)</li>\n",
    "    <li>3 valores por pixel (possui 3 matrizes onde cada uma representa uma cor - vermelho, verde e azul - RGB)</li>\n",
    "    <li>4 valor por pixel (RGB + Alpha/ Opacidade)</li>\n",
    "</ul>\n",
    "</p>\n",
    "<h5>Processamento Digital de Imagens:</h5>\n",
    "<p>O Processamento Digital de Imagens consiste em melhorar alguma imagem, mas melhorada de acordo com o que se quer analisar. Em cada caso utilizamos técnicas específicas. O que pode ser bom para um, pode ser ruim para outro.</p>\n",
    "<ul>\n",
    "    <p>Classificação:</p>\n",
    "    <li>Entrada e saída imagens - Processamento Digital de Imagens</li>\n",
    "    <li>Entrada imagem e saída 'modelo/ atributos' - Visão Computacional</li>\n",
    "    <li>Entrada 'modelo/ atributos' e saída imagem - Computação Gráfica</li>\n",
    "    <li>Entrada 'modelo/ atributos' e saída 'modelo/ atributos' - Geometria Computacional</li>\n",
    "</ul>\n",
    "<h5>Como as imagens são formadas:</h5>\n",
    "<p>As imagens podem ser formadas de diversas maneiras.<br>\n",
    "A mais comum é a partir de ondas do Espectro Eletromagnético.\n",
    "São ondas sinusoidais que variam no comprimento.<br>\n",
    "Existem as seguintes bandas: Gamma; Raio-X; Ultravioleta; Visível; Infravermelho; Microondas; Rádio. <br>\n",
    "A parte que nós seres humanos enxergamos é muito pequena. Além disso, algumas bandas são prejudiciais aos seres humanos.\n",
    "<ul>\n",
    "    Algumas outras formas de gerar imagens são:\n",
    "    <li>Energia Acústica (ultrassom)</li>\n",
    "    <li>Imagens sintéticas geradas pelo computador</li>\n",
    "</ul></p>\n",
    "<h5>Aquisição de Imagens:</h5>\n",
    "<p>Para a imagem ser gerada, precisa de dispositivos sensíveis à energia que está gerando e sensores (podem ser individuais, em linha(utilizada em scanners) ou em área/ matriz (mais utilizada em câmeras)).</p>\n",
    "\n",
    "<ol>\n",
    "Os passos para a aquisição da imagem são:\n",
    "    <li>O objeto é iluminado</li>\n",
    "    <li>Os feixes de luz batem no objeto</li>\n",
    "    <li>Alguns eixos de luz são refletidos e passam pelos sensores</li>\n",
    "    <li>Ocorre a digitalização da imagem</li>\n",
    "</ol>\n",
    "<h5>Amostragem e Quantização</h5>\n",
    "<p>Amostragem é a digitalização do espaço/ coordenas.</p>\n",
    "<p>Quantização é a digitalização da amplitude/ intensidades.</p>\n",
    "<p>Em geral uma imagem em escala de cinza possui 256 níveis de intensidade, variam de 0 (preto) até 255(branco) e possuem 8 bits de intensidade, pois 2^8 = 256.</p>\n",
    "<p>Quanto mais amostras, ou seja, mais pixels, melhor a qualidade da imagem.</p>\n",
    "<p>Quanto mais níveis de intensidade, também, melhor a qualidade da imagem. Mas em geral 8 bits de intensidade já são mais que suficiente para nós humanos.</p>\n",
    "<p>As imagens possuem Mlinhas e Ncolunas. Para calcular quantos bits são necessários para armazenar a imagem: Mlinhas x Ncolunas x nº de bits de intensidade.</p>\n",
    "<h5>Relacionamento de pixels</h5>\n",
    "<p>Os pixels se relacionam entre si. Possuem <b>Vizinhança</b>.</p>\n",
    "<ul>\n",
    "    Existe alguns tipos de vizinhança, dado um pixel p(x, y):\n",
    "    <li>N4(p) = f(x, y-1); f(x, y+1), f(x-1, y), f(x+1, y)</li>\n",
    "    <li>Nd(p) = f(x-1, y-1); f(x-1, y+1); f(x+1, y-1); f(x+1, y+1)</li>\n",
    "    <li>N8(p) = f(x, y-1); f(x, y+1), f(x-1, y), f(x+1, y); f(x-1, y-1); f(x-1, y+1); f(x+1, y-1); f(x+1, y+1)</li>\n",
    "</ul>\n",
    "<h5>Etapas presentes no PDI e Visão Computacional:</h5>\r\n",
    "<ol>\r\n",
    "    <li><b>Aquisição da Imagem</b> - etapa de capturas de imagens.</li>\r\n",
    "    <li><b>Melhoramento</b> - Processos como redução de ruído, ajuste de brilho e contraste para aprimorar a qualidade visual da imagem.</li>\r\n",
    "    <li><b>Filtragem</b> - Aplicação de filtros para realçar detalhes específicos, como bordas e texturas, ou para suavizar a imagem.</li>\r\n",
    "    <li><b>Compressão</b> - modificar o tamanho da imagem, pode ser útil para armazenar ou encaminhar a imagem.</li>\r\n",
    "    <li><b>Segmentação</b> - segmentar/ dividir a imagem em partes.</li>\r\n",
    "    <li><b>Representação e Descrição</b> - Transformação da imagem segmentada em uma forma que possa ser analisada quantitativamente.</li>\r\n",
    "    <li><b>Reconhecimento</b> - Utilização de algoritmos, frequentemente baseados em Inteligência Artificial, para identificar e classificar objetos ou padrões na imagem.</li>\r\n",
    "</ol>\r\n",
    "\r\n",
    "OBS.: Utilizarei a linguagealgumas bibliotecas externas, principalmente OpenCV e NumPy, mas caso utilize outras aviso no decorrer do material.o material.\r\n",
    "As imagens que utilizarei estão na página do GitHub do OpenCV: https://github.com/opencv/opencv"
   ]
  },
  {
   "cell_type": "code",
   "execution_count": 6,
   "id": "94c193e2-a37e-4742-a91f-88fd1a0b88c5",
   "metadata": {},
   "outputs": [
    {
     "name": "stdout",
     "output_type": "stream",
     "text": [
      "Requirement already satisfied: opencv-python in c:\\users\\edub_\\anaconda3\\lib\\site-packages (4.10.0.82)\n",
      "Requirement already satisfied: numpy>=1.21.2 in c:\\users\\edub_\\anaconda3\\lib\\site-packages (from opencv-python) (1.26.4)\n"
     ]
    }
   ],
   "source": [
    "#instalar a biblioteca opencv\n",
    "!pip install opencv-python"
   ]
  },
  {
   "cell_type": "code",
   "execution_count": 2,
   "id": "bb428be7-0838-4073-96d2-6f5451104012",
   "metadata": {},
   "outputs": [],
   "source": [
    "#importar algumas bibliotecas necessárias\n",
    "import cv2 as cv \n",
    "import os"
   ]
  },
  {
   "cell_type": "markdown",
   "id": "80473f9b-73af-4e41-bb16-a807fa9e956a",
   "metadata": {},
   "source": [
    "<h3>LER IMAGEM</h3>"
   ]
  },
  {
   "cell_type": "code",
   "execution_count": 3,
   "id": "360ba91d-77e2-4811-95cb-584fe612418d",
   "metadata": {},
   "outputs": [],
   "source": [
    "#o caminho de onde estão as imagens na minha máquina\n",
    "os.chdir(\"C:/Users/edub_/OneDrive/Área de Trabalho/PDI - IC/conteudo_p_teste\")\n",
    "\n",
    "#arquivo que usarei agora\n",
    "nome_img = \"lena.jpg\"\n",
    "\n",
    "#ler a imagem em escala de cinza\n",
    "#cv.imread(\"nome_arquivo\", flag)  -> a flag pode ser: 1(colorida); 0(escala de cinza); -1(sem mudar, pega inclusive opacidade)\n",
    "img = cv.imread(nome_img, 0)"
   ]
  },
  {
   "cell_type": "code",
   "execution_count": 4,
   "id": "a9b29b4e-9409-4c59-949b-c1f2eeb9e755",
   "metadata": {},
   "outputs": [
    {
     "name": "stdout",
     "output_type": "stream",
     "text": [
      "[[163 162 161 ... 170 154 130]\n",
      " [162 162 162 ... 173 155 126]\n",
      " [162 162 163 ... 170 155 128]\n",
      " ...\n",
      " [ 43  42  51 ... 103 101  99]\n",
      " [ 41  42  55 ... 103 105 106]\n",
      " [ 42  44  57 ... 102 106 109]]\n"
     ]
    }
   ],
   "source": [
    "#mostrando como uma imagem fica armazenda/ é lida (forma de matriz):\n",
    "print(img)"
   ]
  },
  {
   "cell_type": "markdown",
   "id": "9abd3284-c8ab-419f-be98-308a62f4ce4e",
   "metadata": {},
   "source": [
    "<h3>MOSTRAR E SALVAR IMAGEM</h3>"
   ]
  },
  {
   "cell_type": "code",
   "execution_count": 5,
   "id": "e1e78fdc-aa3e-4ec2-bbb6-1c53a07adabe",
   "metadata": {},
   "outputs": [],
   "source": [
    "#MOSTRAR\n",
    "#cv.imshow(\"nomeTela\", arquivo_mostrar)\n",
    "cv.imshow(\"imagem_lena\", img)\n",
    "#utilizamos cv.waitKey(tempo) para determinarmos quanto tempo queremos que a imagem apareça, mas se colocarmos 0 a imagem é exibida até o usuário fechar\n",
    "k = cv.waitKey(0)\n",
    "\n",
    "#SALVAR\n",
    "#cv.imwrite(\"nomeParaSalvar.extensao\", arquivo)\n",
    "#podemos utilizar ord(caracter\") -> para salvar apenas quando o usuario apertar determinada tecla\n",
    "if k == ord('s'):\n",
    "    cv.imwrite(\"img_lena_copia.jpg\", img)\n",
    "\n",
    "#para garatir que todas as páginas foram fechadas\n",
    "cv.destroyAllWindows()"
   ]
  }
 ],
 "metadata": {
  "kernelspec": {
   "display_name": "Python 3 (ipykernel)",
   "language": "python",
   "name": "python3"
  },
  "language_info": {
   "codemirror_mode": {
    "name": "ipython",
    "version": 3
   },
   "file_extension": ".py",
   "mimetype": "text/x-python",
   "name": "python",
   "nbconvert_exporter": "python",
   "pygments_lexer": "ipython3",
   "version": "3.11.7"
  }
 },
 "nbformat": 4,
 "nbformat_minor": 5
}
