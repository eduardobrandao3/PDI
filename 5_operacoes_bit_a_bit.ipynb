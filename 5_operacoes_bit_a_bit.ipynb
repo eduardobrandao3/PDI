{
 "cells": [
  {
   "cell_type": "markdown",
   "id": "19ddc48e-bb4c-4d6a-b19b-b0a504a0478e",
   "metadata": {},
   "source": [
    "<h1>BITWISE OPERATIONS (OPERAÇÕES DE BIT A BIT)</h1>\n",
    "<p>Servem para operar diretamente com os bits.</p>\n",
    "<ul>\n",
    "    É possível realizar as seguintes operações:\n",
    "    <li>cv.bitwise_and(img1, img2)</li>\n",
    "    <li>cv.bitwise_or(img1, img2)</li>\n",
    "    <li>cv.bitwise_xor(img1, img2)</li>\n",
    "    <li>cv.bitwise_not(img1)</li>\n",
    "</ul>"
   ]
  },
  {
   "cell_type": "code",
   "execution_count": 39,
   "id": "dce5193f-aa39-4558-bf7a-88fe811dbc42",
   "metadata": {},
   "outputs": [],
   "source": [
    "import pandas as pd\n",
    "import cv2 as cv\n",
    "import numpy as np"
   ]
  },
  {
   "cell_type": "code",
   "execution_count": 40,
   "id": "09311713-4d84-4af1-8fcc-d95dfc868fd7",
   "metadata": {},
   "outputs": [],
   "source": [
    "#criando imagens que trabalharemos\n",
    "img1 = np.zeros((512, 512), np.uint8)\n",
    "img1[0:80, img1.shape[1]//2 - 40: img1.shape[0]//2 + 40] = 255\n",
    "\n",
    "img2 = np.zeros((512, 512), np.uint8)\n",
    "img2[:, img2.shape[1]//2:] = 255\n",
    "\n",
    "cv.imshow(\"img1\", img1)\n",
    "cv.imshow(\"img2\", img2)\n",
    "cv.waitKey(0)\n",
    "\n",
    "cv.destroyAllWindows()"
   ]
  },
  {
   "cell_type": "markdown",
   "id": "2270d794-b417-45a9-9fa5-01f3e8940176",
   "metadata": {},
   "source": [
    "<h3>cv.bitwise_and(img1, img2) - Tabela Verdade</h3>"
   ]
  },
  {
   "cell_type": "code",
   "execution_count": 41,
   "id": "a22f4248-9c0e-445f-a3f2-9bc756091e67",
   "metadata": {},
   "outputs": [
    {
     "name": "stdout",
     "output_type": "stream",
     "text": [
      " entrada I  entrada II  resultado\n",
      "         0           0          0\n",
      "         0           1          0\n",
      "         1           0          0\n",
      "         1           1          1\n"
     ]
    }
   ],
   "source": [
    "tabela_verdade_bitwise_and = pd.DataFrame(data=[[0, 0, 0], [0, 1, 0], [1, 0, 0], [1, 1, 1]], columns=['entrada I', 'entrada II', 'resultado'])\n",
    "print(tabela_verdade_bitwise_and.to_string(index=False))"
   ]
  },
  {
   "cell_type": "code",
   "execution_count": 42,
   "id": "ba5d99d4-02cf-406d-b28a-7d936e4f532f",
   "metadata": {},
   "outputs": [],
   "source": [
    "#exemplo de funcionamento\n",
    "bit_and = cv.bitwise_and(img2, img1)\n",
    "\n",
    "cv.imshow(\"img1\", img1)\n",
    "cv.imshow(\"img2\", img2)\n",
    "cv.imshow(\"bit_and\", bit_and)\n",
    "\n",
    "cv.waitKey(0)\n",
    "cv.destroyAllWindows()"
   ]
  },
  {
   "cell_type": "markdown",
   "id": "935876aa-c103-49d4-9d92-6b2f337efa02",
   "metadata": {},
   "source": [
    "<h3>cv.bitwise_or(img1, img2) - Tabela Verdade</h3>"
   ]
  },
  {
   "cell_type": "code",
   "execution_count": 43,
   "id": "d71a884f-eb1d-427a-a176-459d656d2aec",
   "metadata": {},
   "outputs": [
    {
     "name": "stdout",
     "output_type": "stream",
     "text": [
      " entrada I  entrada II  resultado\n",
      "         0           0          0\n",
      "         0           1          1\n",
      "         1           0          1\n",
      "         1           1          1\n"
     ]
    }
   ],
   "source": [
    "tabela_verdade_bitwise_or = pd.DataFrame(data=[[0, 0, 0], [0, 1, 1], [1, 0, 1], [1, 1, 1]],columns=['entrada I', 'entrada II', 'resultado'])\n",
    "print(tabela_verdade_bitwise_or.to_string(index=False))"
   ]
  },
  {
   "cell_type": "code",
   "execution_count": 44,
   "id": "69bb2566-44cc-42af-bce2-800dd5fb7e56",
   "metadata": {},
   "outputs": [],
   "source": [
    "#exemplo de funcionamento\n",
    "bit_or = cv.bitwise_or(img2, img1)\n",
    "\n",
    "cv.imshow(\"img1\", img1)\n",
    "cv.imshow(\"img2\", img2)\n",
    "cv.imshow(\"bit_or\", bit_or)\n",
    "\n",
    "cv.waitKey(0)\n",
    "cv.destroyAllWindows()"
   ]
  },
  {
   "cell_type": "markdown",
   "id": "c0078ca2-e848-4149-a5cc-f13a8095666c",
   "metadata": {},
   "source": [
    "<h3>cv.bitwise_xor(img1, img2) - Tabela Verdade</h3>"
   ]
  },
  {
   "cell_type": "code",
   "execution_count": 45,
   "id": "899c4489-ba36-453c-a778-a2771145a473",
   "metadata": {},
   "outputs": [
    {
     "name": "stdout",
     "output_type": "stream",
     "text": [
      " entrada I  entrada II  resultado\n",
      "         0           0          0\n",
      "         0           1          1\n",
      "         1           0          1\n",
      "         1           1          0\n"
     ]
    }
   ],
   "source": [
    "tabela_verdade_bitwise_xor = pd.DataFrame(data=[[0, 0, 0], [0, 1, 1], [1, 0, 1], [1, 1, 0]],columns=['entrada I', 'entrada II', 'resultado'])\n",
    "print(tabela_verdade_bitwise_xor.to_string(index=False))"
   ]
  },
  {
   "cell_type": "code",
   "execution_count": 46,
   "id": "c7db4d2d-a8a1-4365-9e64-81724801c93b",
   "metadata": {},
   "outputs": [],
   "source": [
    "#exemplo de funcionamento\n",
    "bit_xor = cv.bitwise_xor(img2, img1)\n",
    "\n",
    "cv.imshow(\"img1\", img1)\n",
    "cv.imshow(\"img2\", img2)\n",
    "cv.imshow(\"bit_xor\", bit_xor)\n",
    "\n",
    "cv.waitKey(0)\n",
    "cv.destroyAllWindows()"
   ]
  },
  {
   "cell_type": "markdown",
   "id": "cfe0eeab-bf19-4873-9581-24d72fc58f42",
   "metadata": {},
   "source": [
    "<h3>cv.bitwise_not(img1) - Tabela Verdade</h3>"
   ]
  },
  {
   "cell_type": "code",
   "execution_count": 47,
   "id": "16913f11-cc4e-45d8-969f-c4d15340f69c",
   "metadata": {},
   "outputs": [
    {
     "name": "stdout",
     "output_type": "stream",
     "text": [
      " entrada  resultado\n",
      "       0          1\n",
      "       1          0\n"
     ]
    }
   ],
   "source": [
    "tabela_verdade_bitwise_not= pd.DataFrame(data=[[0, 1], [1, 0]],columns=['entrada', 'resultado'])\n",
    "print(tabela_verdade_bitwise_not.to_string(index=False))"
   ]
  },
  {
   "cell_type": "code",
   "execution_count": 48,
   "id": "ae449b4e-a089-42b7-a83c-7b193983fced",
   "metadata": {},
   "outputs": [],
   "source": [
    "#exemplo de funcionamento\n",
    "bit_not1 = cv.bitwise_not(img1)\n",
    "bit_not2 = cv.bitwise_not(img2)\n",
    "\n",
    "cv.imshow(\"img1\", img1)\n",
    "cv.imshow(\"img2\", img2)\n",
    "cv.imshow(\"bit_not1\", bit_not1)\n",
    "cv.imshow(\"bit_not2\", bit_not2)\n",
    "\n",
    "cv.waitKey(0)\n",
    "cv.destroyAllWindows()"
   ]
  }
 ],
 "metadata": {
  "kernelspec": {
   "display_name": "Python 3 (ipykernel)",
   "language": "python",
   "name": "python3"
  },
  "language_info": {
   "codemirror_mode": {
    "name": "ipython",
    "version": 3
   },
   "file_extension": ".py",
   "mimetype": "text/x-python",
   "name": "python",
   "nbconvert_exporter": "python",
   "pygments_lexer": "ipython3",
   "version": "3.11.7"
  }
 },
 "nbformat": 4,
 "nbformat_minor": 5
}
