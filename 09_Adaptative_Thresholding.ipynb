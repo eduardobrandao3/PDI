{
 "cells": [
  {
   "cell_type": "markdown",
   "id": "42680645-7c2b-4368-b7f8-1d3b90450266",
   "metadata": {},
   "source": [
    "<h1>Adaptive Thresholding - Limiarização Adaptativa</h1>\n",
    "<p>Ao utilizar a Limiarização Simples ('Simple Thresholding'), compara-se cada pixel da imagem com um limiar global estabelecido. O problema é que nem sempre as imagens possuem a mesma luminosidade em todas as regiões. Portanto, muitas vezes é melhor utilizar a limiarização adaptativa, que utiliza um limiar diferente para cada região da imagem, dependendo dos valores dos pixels vizinhos.</p>\n",
    "<p>Para isso, é utilizado <b>cv.adaptiveThreshold()</b>.</p>\n",
    "<p>Os parâmetros são: <code>cv.adaptiveThreshold(img, valor_maximo, cv.ADAPTIVE_tipo, cv.THRESH_tipo, tamanho_bloco, Constante_C)</code></p>\n",
    "<p>OBS.: O cv.adaptiveThreshold só suporta o cv.THRESH_BINARY e o cv.THRESH_BINARY_INV</p>\n",
    "<p>Os tipos existentes são:</p>\n",
    "<ul>\n",
    "    <li><b>cv.ADAPTIVE_THRESH_MEAN_C</b>: é a média dos vizinhos menos uma constante C.</li>\n",
    "    <li><b>cv.ADAPTIVE_THRESH_GAUSSIAN_C</b>: é a média ponderada (gaussiana) dos vizinhos menos uma constante C.</li>\n",
    "</ul>"
   ]
  },
  {
   "cell_type": "code",
   "execution_count": 11,
   "id": "04e9b094-7ef1-4ad9-98b3-08af9ef61e33",
   "metadata": {},
   "outputs": [],
   "source": [
    "import cv2 as cv\n",
    "import os"
   ]
  },
  {
   "cell_type": "code",
   "execution_count": 25,
   "id": "34457d38-0b7a-450b-8384-1a6cf61b2239",
   "metadata": {},
   "outputs": [],
   "source": [
    "#mostrando que nem sempre 'simple thresholding' é a melhor opção\n",
    "os.chdir(\"C:/Users/edub_/OneDrive/Área de Trabalho/PDI - IC/conteudo_p_teste\")\n",
    "img = cv.imread(\"sudoku.png\", 0)\n",
    "\n",
    "#Utilizando 'Simple Thresholding'\n",
    "_, th_binary = cv.threshold(img, 80, 255, cv.THRESH_BINARY)\n",
    "_, th_binary_inv = cv.threshold(img, 80, 255, cv.THRESH_BINARY_INV)\n",
    "_, th_trunc = cv.threshold(img, 80, 255, cv.THRESH_TRUNC)\n",
    "_, th_tozero = cv.threshold(img, 80, 255, cv.THRESH_TOZERO)\n",
    "_, th_tozero_inv = cv.threshold(img, 80, 255, cv.THRESH_TOZERO_INV)\n",
    "\n",
    "#Utilizando 'Adaptative Thresholding'\n",
    "th_mean = cv.adaptiveThreshold(img, 255, cv.ADAPTIVE_THRESH_MEAN_C, cv.THRESH_BINARY, 11, 5)\n",
    "th_mean_binary_inv = cv.adaptiveThreshold(img, 255, cv.ADAPTIVE_THRESH_MEAN_C, cv.THRESH_BINARY_INV, 11, 5)\n",
    "\n",
    "th_gaussian_binary = cv.adaptiveThreshold(img, 255, cv.ADAPTIVE_THRESH_GAUSSIAN_C, cv.THRESH_BINARY, 11, 5)\n",
    "th_gaussian_binary_inv = cv.adaptiveThreshold(img, 255, cv.ADAPTIVE_THRESH_GAUSSIAN_C, cv.THRESH_BINARY_INV, 11, 5)\n",
    "\n",
    "cv.imshow(\"original\", img)\n",
    "cv.imshow(\"BINARY\", th_binary)\n",
    "cv.imshow(\"BINARY_INV\", th_binary_inv)\n",
    "cv.imshow(\"TRUNC\", th_trunc)\n",
    "cv.imshow(\"TOZERO\", th_tozero)\n",
    "cv.imshow(\"TOZERO_INV\", th_tozero_inv)\n",
    "\n",
    "cv.imshow(\"adaptive_mean\", th_mean)\n",
    "cv.imshow(\"adaptive_mean_binary_inv\", th_mean_binary_inv)\n",
    "cv.imshow(\"adaptive_gaussian_binary\", th_gaussian_binary)\n",
    "cv.imshow(\"adaptive_gaussian_binary_inv\", th_gaussian_binary_inv)\n",
    "\n",
    "cv.waitKey(0)\n",
    "cv.destroyAllWindows()"
   ]
  }
 ],
 "metadata": {
  "kernelspec": {
   "display_name": "Python 3 (ipykernel)",
   "language": "python",
   "name": "python3"
  },
  "language_info": {
   "codemirror_mode": {
    "name": "ipython",
    "version": 3
   },
   "file_extension": ".py",
   "mimetype": "text/x-python",
   "name": "python",
   "nbconvert_exporter": "python",
   "pygments_lexer": "ipython3",
   "version": "3.11.7"
  }
 },
 "nbformat": 4,
 "nbformat_minor": 5
}
