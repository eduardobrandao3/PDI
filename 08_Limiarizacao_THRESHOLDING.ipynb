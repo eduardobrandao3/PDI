{
 "cells": [
  {
   "cell_type": "markdown",
   "id": "da192f12-a758-4e5b-adcd-0e1d7ee736b6",
   "metadata": {},
   "source": [
    "<h1>Limiarização - Thresholding</h1>\n",
    "<p>A limiarização ('Thresholding') é uma técnica utilizada para modificar os valores dos pixels de uma imagem com base em um valor de limiar especificado. Esta técnica compara cada pixel com o valor do limiar e realiza a operação que o método de thresholding determina.</p>\n",
    "<p>Para isso, utilizamo <b>cv.threshold()</b> do OpenCV.</p>\n",
    "<p>Os parâmetros que utilizamos são: cv.threshold(imagem, limiar, valor_maximo, tipo_thresholding)</p>\n",
    "<p>Existem alguns tipos de 'thresholding':</p>\n",
    "<ul>\n",
    "    <li><b>cv.THRESH_BINARY</b>: Quando o pixel possui valor menor que o limiar, assume 0 (preto), quando o valor é maior ou igual, recebe valor máximo (branco).</li>\n",
    "    <li><b>cv.THRESH_BINARY_INV</b>: É o inverso do cv.THRESH_BINARY. Se o pixel tiver valor menor que o limiar, assume o valor máximo (branco), caso tenha valor maior ou igual, recebe 0 (preto).</li>\n",
    "    <li><b>cv.THRESH_TRUNC</b>: Quando o pixel possui valor menor que o limiar, ele não tem o valor alterado. Se o valor for maior ou igual, recebe o valor do limiar.</li>\n",
    "    <li><b>cv.THRESH_TOZERO</b>: Quando o pixel possui valor menor que o limiar, recebe 0 (preto). Se o valor for maior ou igual, não se altera.</li>\n",
    "    <li><b>cv.THRESH_TOZERO_INV</b>: É o inverso do cv.THRESH_TOZERO. Quando o pixel possui valor menor que o limiar, ele não se altera. Se o valor for maior ou igual, recebe 0 (preto).</li>\n",
    "</ul>\n",
    "\n",
    "<p>OBS.: quando utilizamos cv.threshold(), o primeiro retorno é o limiar, em geral não será utilizado, então declaramos como '_'</p>\n",
    "<p>Se aplicar em uma imagem colorida, o 'thresholding' vai funcionar separadamente em cada canal (B, G, R)</p>"
   ]
  },
  {
   "cell_type": "code",
   "execution_count": 12,
   "id": "6235d1a2-cb29-43e6-b9b0-d06c7b23005e",
   "metadata": {},
   "outputs": [],
   "source": [
    "import cv2 as cv\n",
    "import os "
   ]
  },
  {
   "cell_type": "code",
   "execution_count": 13,
   "id": "02acadb4-bdd5-45f0-8e3f-61a27fc30d9a",
   "metadata": {},
   "outputs": [],
   "source": [
    "os.chdir(\"C:/Users/edub_/OneDrive/Área de Trabalho/PDI - IC/conteudo_p_teste\")\n",
    "\n",
    "img = cv.imread(\"gradient.png\")\n",
    "cv.imshow(\"original\", img)\n",
    "\n",
    "#cv.THRESH_BINARY\n",
    "_, binary = cv.threshold(img, 100, 255, cv.THRESH_BINARY) #menores que 100 ficam pretos e maiores ou iguais ficam brancos\n",
    "cv.imshow(\"binary\", binary)\n",
    "\n",
    "#cv.THRESH_BINARY_INV\n",
    "_, binary_inv = cv.threshold(img, 100, 255, cv.THRESH_BINARY_INV) #menores que 100 ficam brancos e maiores ou iguais ficam pretos\n",
    "cv.imshow(\"binary_inv\", binary_inv)\n",
    "\n",
    "#cv.THRESH_TRUNC\n",
    "_, trunc = cv.threshold(img, 140, 255, cv.THRESH_TRUNC) #menores que 140 ficam inalterados e maiores ou iguais assumem 140\n",
    "cv.imshow(\"trunc\", trunc)\n",
    "\n",
    "#cv.THRESH_TOZERO\n",
    "_, tozero = cv.threshold(img, 127, 255, cv.THRESH_TOZERO) #menores que 127 ficam pretos e maiores ou iguais ficam inalterados\n",
    "cv.imshow(\"tozero\", tozero)\n",
    "\n",
    "#cv.THRESH_TOZERO_INV\n",
    "_, tozero_inv = cv.threshold(img, 127, 255, cv.THRESH_TOZERO_INV) #menores que 127 ficam inalterados e maiores ou iguais ficam pretos\n",
    "cv.imshow(\"tozero_inv\", tozero_inv)\n",
    "\n",
    "cv.waitKey(0)\n",
    "cv.destroyAllWindows()"
   ]
  },
  {
   "cell_type": "code",
   "execution_count": 14,
   "id": "8a331290-9766-4710-a75e-78aa35ea17d2",
   "metadata": {},
   "outputs": [],
   "source": [
    "#aplicando em uma imagem colorida\n",
    "lena = cv.imread(\"lena.jpg\")\n",
    "\n",
    "#cv.THRESH_BINARY\n",
    "_, th1 = cv.threshold(lena, 127, 255, cv.THRESH_BINARY)\n",
    "\n",
    "#cv.THRESH_BINARY_INV\n",
    "_, th2 = cv.threshold(lena, 127, 255, cv.THRESH_BINARY_INV)\n",
    "\n",
    "#cv.THRESH_TRUNC\n",
    "_, th3 = cv.threshold(lena, 127, 255, cv.THRESH_TRUNC)\n",
    "\n",
    "#cv.THRESH_TOZERO\n",
    "_, th4 = cv.threshold(lena, 127, 255, cv.THRESH_TOZERO)\n",
    "\n",
    "#cv.THRESH_TOZERO_INV\n",
    "_, th5 = cv.threshold(lena, 127, 255, cv.THRESH_TOZERO_INV)\n",
    "\n",
    "cv.imshow(\"lena_original\", lena)\n",
    "cv.imshow(\"lena_binary\", th1)\n",
    "cv.imshow(\"lena_binary_inv\", th2)\n",
    "cv.imshow(\"lena_trunc\", th3)\n",
    "cv.imshow(\"lena_tozero\", th4)\n",
    "cv.imshow(\"lena_tozero_inv\", th5)\n",
    "\n",
    "cv.waitKey(0)\n",
    "cv.destroyAllWindows()"
   ]
  },
  {
   "cell_type": "code",
   "execution_count": 15,
   "id": "d95493a3-808e-4427-be48-746fd20bf935",
   "metadata": {},
   "outputs": [],
   "source": [
    "#exemplo imagem 'Lena' em escala de cinza\n",
    "lena_cinza = cv.imread(\"lena.jpg\", 0)\n",
    "\n",
    "#cv.THRESH_BINARY\n",
    "_, th1_cinza = cv.threshold(lena_cinza, 127, 255, cv.THRESH_BINARY)\n",
    "\n",
    "#cv.THRESH_BINARY_INV\n",
    "_, th2_cinza = cv.threshold(lena_cinza, 127, 255, cv.THRESH_BINARY_INV)\n",
    "\n",
    "#cv.THRESH_TRUNC\n",
    "_, th3_cinza = cv.threshold(lena_cinza, 127, 255, cv.THRESH_TRUNC)\n",
    "\n",
    "#cv.THRESH_TOZERO\n",
    "_, th4_cinza = cv.threshold(lena_cinza, 127, 255, cv.THRESH_TOZERO)\n",
    "\n",
    "#cv.THRESH_TOZERO_INV\n",
    "_, th5_cinza = cv.threshold(lena_cinza, 127, 255, cv.THRESH_TOZERO_INV)\n",
    "\n",
    "cv.imshow(\"lena_original_cinza\", lena_cinza)\n",
    "cv.imshow(\"lena_binary_cinza\", th1_cinza)\n",
    "cv.imshow(\"lena_binary_inv_cinza\", th2_cinza)\n",
    "cv.imshow(\"lena_trunc_cinza\", th3_cinza)\n",
    "cv.imshow(\"lena_tozero_cinza\", th4_cinza)\n",
    "cv.imshow(\"lena_tozero_inv_cinza\", th5_cinza)\n",
    "\n",
    "cv.waitKey(0)\n",
    "cv.destroyAllWindows()"
   ]
  }
 ],
 "metadata": {
  "kernelspec": {
   "display_name": "Python 3 (ipykernel)",
   "language": "python",
   "name": "python3"
  },
  "language_info": {
   "codemirror_mode": {
    "name": "ipython",
    "version": 3
   },
   "file_extension": ".py",
   "mimetype": "text/x-python",
   "name": "python",
   "nbconvert_exporter": "python",
   "pygments_lexer": "ipython3",
   "version": "3.11.7"
  }
 },
 "nbformat": 4,
 "nbformat_minor": 5
}
