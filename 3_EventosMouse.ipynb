{
 "cells": [
  {
   "cell_type": "markdown",
   "id": "7a44d604-b30c-47d1-8860-1aa167fde8fa",
   "metadata": {},
   "source": [
    "<h1>Eventos de Mouse</h1>\n",
    "<p>Quando estamos trabalhando com imagens, é possível captar 'eventos'/ ações que o usuário faz com o mouse na imagem e realizar algo de acordo com 'evento' feito.</p>\n",
    "<p>Para captar os eventos do mouse: cv2.setMouseCallback(\"nome_janela\", nome_funcao_utilizar)</p>\n",
    "<p>OBS.: para funcionar, as janelas (que apresentam a imagem) precisam ter o mesmo nome.</p>"
   ]
  },
  {
   "cell_type": "code",
   "execution_count": 23,
   "id": "0c2f6c00-d5d4-4fe7-a716-dd940fbc00f2",
   "metadata": {},
   "outputs": [],
   "source": [
    "#importando as bibliotecas que usarei neste material\n",
    "import cv2 as cv\n",
    "import os\n",
    "import numpy as np"
   ]
  },
  {
   "cell_type": "code",
   "execution_count": 24,
   "id": "1fd48aca-bc3f-4e07-9e82-9ece20bd2007",
   "metadata": {},
   "outputs": [
    {
     "name": "stdout",
     "output_type": "stream",
     "text": [
      "['EVENT_FLAG_ALTKEY', 'EVENT_FLAG_CTRLKEY', 'EVENT_FLAG_LBUTTON', 'EVENT_FLAG_MBUTTON', 'EVENT_FLAG_RBUTTON', 'EVENT_FLAG_SHIFTKEY', 'EVENT_LBUTTONDBLCLK', 'EVENT_LBUTTONDOWN', 'EVENT_LBUTTONUP', 'EVENT_MBUTTONDBLCLK', 'EVENT_MBUTTONDOWN', 'EVENT_MBUTTONUP', 'EVENT_MOUSEHWHEEL', 'EVENT_MOUSEMOVE', 'EVENT_MOUSEWHEEL', 'EVENT_RBUTTONDBLCLK', 'EVENT_RBUTTONDOWN', 'EVENT_RBUTTONUP']\n"
     ]
    }
   ],
   "source": [
    "#para ver quais os possíveis eventos \n",
    "eventos = [i for i in dir(cv) if 'EVENT' in i]\n",
    "print(eventos)"
   ]
  },
  {
   "cell_type": "code",
   "execution_count": 37,
   "id": "80d69c73-94b9-4132-95eb-9281b2ebd37d",
   "metadata": {},
   "outputs": [],
   "source": [
    "\"\"\"exemplo 1:\n",
    "quando o usuário clicar com o botão esquerdo em algum lugar da imagem, vai aparecer as coordenadas do pixel\n",
    "quando clicar com botão direito vai aparecer qual a intensidade de cada cor utilizada BGR (blue/azul - green/verde - red/vermelho)\"\"\"\n",
    "\n",
    "#indicando caminho da imagem \n",
    "os.chdir(\"C:/Users/edub_/OneDrive/Área de Trabalho/PDI - IC/conteudo_p_teste\")\n",
    "nome_img = \"lena.jpg\"\n",
    "\n",
    "#função para utilizar determinado evento\n",
    "def evento_mouse(event, x, y, flags, param):\n",
    "    #botão esquerdo - aparecer coordenadas\n",
    "    if event == cv.EVENT_LBUTTONDOWN:\n",
    "        coordenadas = 'x=' + str(x) + ', ' + 'y=' +str(y)\n",
    "        cv.putText(img, coordenadas, (x, y), cv.FONT_HERSHEY_SIMPLEX, .5, (0, 255, 255), 2, cv.LINE_AA)\n",
    "        cv.imshow(\"imagem_lena\", img)\n",
    "    #botão direito - aprecer as intensidades das cores BGR\n",
    "    elif event == cv.EVENT_RBUTTONDOWN:\n",
    "        azul = img[y, x, 0]\n",
    "        verde = img[y, x, 1]\n",
    "        vermelho = img[y, x, 2]\n",
    "        intensidade = str(azul) + ', ' + str(verde) + ', ' + str(vermelho)\n",
    "        cv.putText(img, intensidade, (x, y), cv.FONT_HERSHEY_SIMPLEX, .5, (255, 0, 20), 2, cv.LINE_AA)\n",
    "        cv.imshow(\"imagem_lena\", img)\n",
    "\n",
    "#lendo a imagem\n",
    "img = cv.imread(nome_img, 1)\n",
    "\n",
    "#mostrar imagem\n",
    "cv.imshow(\"imagem_lena\", img)\n",
    "\n",
    "#captar eventos do mouse\n",
    "cv.setMouseCallback(\"imagem_lena\", evento_mouse)\n",
    "\n",
    "#imagem aparecer até o usuário fechar\n",
    "cv.waitKey(0)\n",
    "\n",
    "#garantir que todas as janelas foram fechadas\n",
    "cv.destroyAllWindows()"
   ]
  },
  {
   "cell_type": "code",
   "execution_count": 40,
   "id": "d119e006-d598-4e73-b6e3-3a913af48aef",
   "metadata": {},
   "outputs": [],
   "source": [
    "\"\"\"exemplo 2:\n",
    "quando o usuário clicar com botão esquerdo, colocar um ponto na coordenada clicada e conectar dois ponto seguidos com uma linha\"\"\"\n",
    "\n",
    "\n",
    "#criando função\n",
    "def evento(event, x, y, flags, param):\n",
    "    if event == cv.EVENT_LBUTTONDOWN:\n",
    "        #desenhar o ponto na imagem\n",
    "        cv.circle(imagem, (x, y), 3, (255, 255, 255), -1)\n",
    "        pontos.append((x, y))\n",
    "\n",
    "        #quando tiver mais de dois pontos, conectá-los\n",
    "        if len(pontos) >= 2:\n",
    "            cv.line(imagem, (pontos[-2]), (pontos[-1]), (255, 0, 0), 2)\n",
    "            \n",
    "        cv.imshow(\"exemplo2\", imagem)\n",
    "\n",
    "#criando imagem totalmente preta\n",
    "imagem = np.zeros((512, 512, 3), np.uint8)\n",
    "cv.imshow(\"exemplo2\", imagem)\n",
    "\n",
    "#lista que vai guardar os pontos\n",
    "pontos = []\n",
    "\n",
    "#captar eventos\n",
    "cv.setMouseCallback(\"exemplo2\", evento)\n",
    "\n",
    "#imagem aparecer até o usuário fechar\n",
    "cv.waitKey(0)\n",
    "\n",
    "#garantir que todas as janelas foram fechadas\n",
    "cv.destroyAllWindows()\n"
   ]
  },
  {
   "cell_type": "code",
   "execution_count": 39,
   "id": "0f045e2d-4828-40a4-a8a7-215158b7e84e",
   "metadata": {},
   "outputs": [],
   "source": [
    "\"\"\"exemplo 3:\n",
    "quando o usuário clicar com o botão do meio, vai abrir uma nova janela (imagem) completa com a cor da coordenada clicada\"\"\"\n",
    "\n",
    "#indicando o caminho \n",
    "os.chdir(\"C:/Users/edub_/OneDrive/Área de Trabalho/PDI - IC/conteudo_p_teste\")\n",
    "nome = \"HappyFish.jpg\"\n",
    "\n",
    "#criando função\n",
    "def evento_meio(event, x, y, flags, param):\n",
    "    if event == cv.EVENT_MBUTTONDOWN:\n",
    "        #criando uma imagem - inicialmente totalmente preta, depois vai assumir a cor do pixel que o usuário clicar\n",
    "        cor_pixel = np.zeros((512, 512, 3), np.uint8)\n",
    "        #obtendo intensidade de cada cor do pixel\n",
    "        azul3 = img_ex3[y, x, 0]\n",
    "        verde3 = img_ex3[y, x, 1]\n",
    "        vermelho3 = img_ex3[y, x, 2]\n",
    "        #atribuindo cor do pixel na imagem que estava inicialmente toda preta\n",
    "        cor_pixel[:] = [azul3, verde3, vermelho3]\n",
    "        #mostrar nova janela que contém a cor do pixel\n",
    "        cv.imshow(\"cor\", cor_pixel)\n",
    "        \n",
    "#lendo imagem\n",
    "img_ex3 = cv.imread(nome, 1)\n",
    "\n",
    "#mostrar a imagem lida\n",
    "cv.imshow(\"exemplo3\", img_ex3)\n",
    "\n",
    "#captando eventos de mouse\n",
    "cv.setMouseCallback(\"exemplo3\", evento_meio)\n",
    "\n",
    "#ficar aberta até o usuário fechar\n",
    "cv.waitKey(0)\n",
    "\n",
    "#garantir que todas as janelas sejam fechadas\n",
    "cv.destroyAllWindows()\n"
   ]
  }
 ],
 "metadata": {
  "kernelspec": {
   "display_name": "Python 3 (ipykernel)",
   "language": "python",
   "name": "python3"
  },
  "language_info": {
   "codemirror_mode": {
    "name": "ipython",
    "version": 3
   },
   "file_extension": ".py",
   "mimetype": "text/x-python",
   "name": "python",
   "nbconvert_exporter": "python",
   "pygments_lexer": "ipython3",
   "version": "3.11.7"
  }
 },
 "nbformat": 4,
 "nbformat_minor": 5
}
