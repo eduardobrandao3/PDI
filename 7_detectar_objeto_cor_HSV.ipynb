{
 "cells": [
  {
   "cell_type": "markdown",
   "id": "9a9d3608-feed-40b9-a3be-0e5d577574ef",
   "metadata": {},
   "source": [
    "<h1>Detectar objetos pela cor - HSV (Hue, Saturation, Value)</h1>\n",
    "<p>HSV é um sistema de cores que também é possível gerar todas as outras cores.<br>\n",
    "Em HSV é possível 'separar' as informações da cor e da luminância.</p>\n",
    "<ul>\n",
    "    <li><b>H</b>ue - Matiz. É o pigmento base/ tonalidade. Abrange todas as cores (0 - 360).</li>\n",
    "    <li><b>S</b>aturation - Saturação. É  a dominância da matiz (0 - 100%).</li>\n",
    "    <li><b>V</b>alue - Valor. É o 'brilho' da imagem (0 - 100%).</li>\n",
    "</ul>\n",
    "<p>Como já dito em outros materiais, é possível modificar as cores da imagem utilizando cv.cvtColor(img, flag). Para converter de BGR para HSV podemos utilizar a flag cv.COLOR_BGR2HSV</p>\n",
    "<p>Podemos utilizar o sistema de cores HSV para detectar os objetos.</p>"
   ]
  },
  {
   "cell_type": "code",
   "execution_count": 6,
   "id": "a2458318-2428-4639-97e5-7f61b9191b72",
   "metadata": {},
   "outputs": [],
   "source": [
    "#exemplo detecção objetos pela cor HSV. OBS.: utilizarei 'trackbar' para identificar a faixa de valores do objeto que desejo\n",
    "import cv2 as cv\n",
    "import os \n",
    "import numpy as np\n",
    "\n",
    "os.chdir(\"C:/Users/edub_/OneDrive/Área de Trabalho/PDI - IC/conteudo_p_teste\")\n",
    "\n",
    "def nda(x):\n",
    "    pass\n",
    "\n",
    "cv.namedWindow(\"encontrar_valores\")\n",
    "cv.createTrackbar(\"menor_H\", \"encontrar_valores\", 0, 255, nda)\n",
    "cv.createTrackbar(\"menor_S\", \"encontrar_valores\", 0, 255, nda)\n",
    "cv.createTrackbar(\"menor_V\", \"encontrar_valores\", 0, 255, nda)\n",
    "cv.createTrackbar(\"maior_H\", \"encontrar_valores\", 255, 255, nda)\n",
    "cv.createTrackbar(\"maior_S\", \"encontrar_valores\", 255, 255, nda)\n",
    "cv.createTrackbar(\"maior_V\", \"encontrar_valores\", 255, 255, nda)\n",
    "\n",
    "while(1):\n",
    "    img = cv.imread(\"smarties.png\")\n",
    "\n",
    "    hsv = cv.cvtColor(img, cv.COLOR_BGR2HSV)\n",
    "\n",
    "    #identificar os valores 'limites' de acordo com a cor que queremos para detectar o objeto\n",
    "    menor_h = cv.getTrackbarPos(\"menor_H\", \"encontrar_valores\")\n",
    "    menor_s = cv.getTrackbarPos(\"menor_S\", \"encontrar_valores\")\n",
    "    menor_v = cv.getTrackbarPos(\"menor_V\", \"encontrar_valores\")\n",
    "    maior_h = cv.getTrackbarPos(\"maior_H\", \"encontrar_valores\")\n",
    "    maior_s = cv.getTrackbarPos(\"maior_S\", \"encontrar_valores\")\n",
    "    maior_v = cv.getTrackbarPos(\"maior_V\", \"encontrar_valores\")\n",
    "\n",
    "    inferior = np.array([menor_h, menor_s, menor_v])\n",
    "    superior = np.array([maior_h, maior_s, maior_v])\n",
    "    \n",
    "    #criar uma máscara que captura apenas as cores dentro do intervalo especificado\n",
    "    mask = cv.inRange(hsv, inferior, superior)\n",
    "\n",
    "    #aplicar a máscara À imagem inicial\n",
    "    res = cv.bitwise_and(img, img, mask=mask)\n",
    "    \n",
    "    cv.imshow(\"img_bolas\", img)\n",
    "    cv.imshow(\"mascara\", mask)\n",
    "    cv.imshow(\"resultado\", res)\n",
    "    \n",
    "    k = cv.waitKey(1) & 0xFF\n",
    "    if k == 27:\n",
    "        break\n",
    "    \n",
    "cv.destroyAllWindows()\n",
    "\n",
    "#OBS.: um bom exemplo para teste é:\n",
    "\n",
    "#menor_h = 94\n",
    "#menor_s = 168\n",
    "#menor_v = 0\n",
    "#maior_h = 142\n",
    "#maior_s = 255\n",
    "#maior_v = 255\n",
    "\n",
    "#Com esses valores vai detectar as bolas azuis\"\"\""
   ]
  },
  {
   "cell_type": "code",
   "execution_count": null,
   "id": "ab2d3168-16c3-4d25-92e9-d9fffe6160ac",
   "metadata": {},
   "outputs": [],
   "source": []
  }
 ],
 "metadata": {
  "kernelspec": {
   "display_name": "Python 3 (ipykernel)",
   "language": "python",
   "name": "python3"
  },
  "language_info": {
   "codemirror_mode": {
    "name": "ipython",
    "version": 3
   },
   "file_extension": ".py",
   "mimetype": "text/x-python",
   "name": "python",
   "nbconvert_exporter": "python",
   "pygments_lexer": "ipython3",
   "version": "3.11.7"
  }
 },
 "nbformat": 4,
 "nbformat_minor": 5
}
