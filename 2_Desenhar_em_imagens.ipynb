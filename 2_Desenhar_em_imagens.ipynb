{
 "cells": [
  {
   "cell_type": "markdown",
   "id": "5d8655a0-1fd9-4005-b60b-3eec31631ba4",
   "metadata": {},
   "source": [
    "<h1>DESENHAR EM IMAGENS</h1>\n",
    "<p>É possível desenhar algumas formas geométricas nas imagens e colocar textos. Esses recursos podem ser de extrema importância dependendo do contexto.</p>\n",
    "Alguns recursos que podemos utilizar nas imagens:\n",
    "<ul>\n",
    "    <li>Linha</li>\n",
    "    <li>Linha com seta</li>\n",
    "    <li>Retângulo</li>\n",
    "    <li>Círculo</li>\n",
    "    <li>Elipses</li>\n",
    "    <li>Polilinhas</li>\n",
    "    <li>Colocar texto</li>\n",
    "</ul>\n",
    "\n",
    "<p>Nesse material abordarei: Linha; Linha com Seta; Retângulo; Círculo; Colocar Texto</p>"
   ]
  },
  {
   "cell_type": "code",
   "execution_count": 65,
   "id": "74f4d380-5090-42f8-abb8-99a4e0818cd5",
   "metadata": {},
   "outputs": [],
   "source": [
    "#importando bibliotecas\n",
    "import cv2 as cv\n",
    "import numpy as np"
   ]
  },
  {
   "cell_type": "code",
   "execution_count": 66,
   "id": "69259994-0a74-4ec2-9c51-87d7df2084dc",
   "metadata": {},
   "outputs": [],
   "source": [
    "#criar uma imagem toda preta\n",
    "img = np.zeros((512, 512, 3), np.uint8)"
   ]
  },
  {
   "cell_type": "markdown",
   "id": "75b8d0ae-07f6-4e83-81b8-d5f8fff4b23a",
   "metadata": {},
   "source": [
    "<h4>Linha e Linha com seta</h4>\n",
    "<p>Para colocar Linha: cv.line(imagem, (Pt1), (Pt2), (cor), espessura)</p>\n",
    "<p>Para colocar Linha com Seta: cv.arrowedLine(imagem, (Pt1), (Pt2), (cor), espessura)</p>\n",
    "<p>OBS.: (Pt1) e (Pt2) são as coordenadas dos pixels, onde inicia e onde termina o segmento, respectivamente<br>\n",
    "A cor deve ser na sequência BGR - blue/azul, green/verde, red/vermelho ex.: (255, 0, 0) -> nesse caso seria máximo de azul, nada de verde e nada de vermelho </p>"
   ]
  },
  {
   "cell_type": "code",
   "execution_count": 67,
   "id": "1516a5b2-822b-4dbb-955a-423ba6f5b4d4",
   "metadata": {},
   "outputs": [],
   "source": [
    "#desenhando linha\n",
    "img = cv.line(img, (0, 0), (200, 180), (186, 175, 17), 5)\n",
    "\n",
    "#desenhando Linha com Seta\n",
    "img = cv.arrowedLine(img, (img.shape[0]-1, img.shape[1]-1), (img.shape[0]//2, img.shape[1]//2), (201, 58, 182), 5)"
   ]
  },
  {
   "cell_type": "markdown",
   "id": "bbc7aa90-ca47-44e5-b04c-660c8a3dbae1",
   "metadata": {},
   "source": [
    "<h4>Retângulo</h4>\n",
    "<p>Para colocar Retângulo: cv.rectangle(imagem, (Pt1), (Pt2), (cor), espessura)</p>\n",
    "<p>OBS: (Pt1) é a coordenada do pixel 'inicial', que é o vértice superior esquerdo. O (Pt2) é a coordenada do pixel 'final', que é o vértice inferior direito. <br>\n",
    "A cor também deve ser preenchida na forma BGR. <br>\n",
    "Se colocar -1 na espessura preenche o retângulo com a cor escolhida.</p>"
   ]
  },
  {
   "cell_type": "code",
   "execution_count": 68,
   "id": "68bc9207-ca29-4c59-adaa-7aab93580405",
   "metadata": {},
   "outputs": [],
   "source": [
    "#desenhando retângulo \n",
    "img = cv.rectangle(img, (0, 350), (220, img.shape[1]-1), (50, 156, 26), 10)"
   ]
  },
  {
   "cell_type": "markdown",
   "id": "9f0080a1-69f8-434b-afea-0d757d3763a1",
   "metadata": {},
   "source": [
    "<h4>Círculo</h4>\n",
    "<p>Para colocar Círculo: cv.circle(imagem, (centro), raio, (cor), espessura)</p>\n",
    "<p>O centro é a coordenada do pixel que será o centro da do círculo.<br>\n",
    "Raio - indicar tamanho do raio (distância do centro até a extremidade).<br>\n",
    "A cor também deve ser preenchida na forma BGR.<br>\r\n",
    "Se colocar -1 na espessura preenche ocírculoo com a cor escolhida.</p>"
   ]
  },
  {
   "cell_type": "code",
   "execution_count": 69,
   "id": "f5b97dfb-4783-4a69-955c-d8b2e7fcb17a",
   "metadata": {},
   "outputs": [],
   "source": [
    "#desenhando um círculo\n",
    "img = cv.circle(img, ((3*img.shape[0]//4), img.shape[1]//4), 80, (53, 128, 219), -1)"
   ]
  },
  {
   "cell_type": "markdown",
   "id": "e1995f84-89dd-4b87-a37e-d856585c0bbc",
   "metadata": {},
   "source": [
    "<h4>Colocar Texto</h4>\n",
    "<p>Para colocar texto: cv.putText(imagem, \"mensagem_de_texto\", (Pt1), fonte, tam_fonte, (cor), espessura, tipo_linha)</p>\n",
    "<p> Obs.: (Pt1) é a coordenada do pixel onde se inicia o texto.</p>\n",
    "<p>DICAS: para conseguir fonte -> cv.FONT -> vai aparecer algumas opções, escreva a que você quer ou clica sobre a opção. <br>\n",
    "para conseguir tipo de linha -> cv.LINE -> vai aparecer algumas opções, escreva a que você quer ou clica sobre a opção.</p>"
   ]
  },
  {
   "cell_type": "code",
   "execution_count": 70,
   "id": "f652ed26-2b2d-4033-8b7d-5f1e64945e5e",
   "metadata": {},
   "outputs": [],
   "source": [
    "#colocando texto\n",
    "fonte = cv.FONT_HERSHEY_DUPLEX\n",
    "img = cv.putText(img, \"Testando\", (img.shape[0]//2-80, img.shape[1]//2), fonte, 1, (255, 255, 255), 5, cv.LINE_AA)"
   ]
  },
  {
   "cell_type": "code",
   "execution_count": 71,
   "id": "5efd05e2-2d2b-431f-82a1-15570b58d2aa",
   "metadata": {},
   "outputs": [],
   "source": [
    "#mostrar imagem\n",
    "cv.imshow(\"imagem\", img)\n",
    "k = cv.waitKey(0)\n",
    "\n",
    "cv.destroyAllWindows()"
   ]
  }
 ],
 "metadata": {
  "kernelspec": {
   "display_name": "Python 3 (ipykernel)",
   "language": "python",
   "name": "python3"
  },
  "language_info": {
   "codemirror_mode": {
    "name": "ipython",
    "version": 3
   },
   "file_extension": ".py",
   "mimetype": "text/x-python",
   "name": "python",
   "nbconvert_exporter": "python",
   "pygments_lexer": "ipython3",
   "version": "3.11.7"
  }
 },
 "nbformat": 4,
 "nbformat_minor": 5
}
