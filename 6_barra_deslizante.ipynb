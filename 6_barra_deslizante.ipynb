{
 "cells": [
  {
   "cell_type": "markdown",
   "id": "5372688a-3b72-43f5-b926-99ea8002b893",
   "metadata": {},
   "source": [
    "<h1>Trackbar - Barra de Controle Deslizante</h1>\n",
    "<p>É possível colocar barras de controle deslizantes em janelas que exibem as imagens. Com isso podemos criar diversas aplicações.</p>\n",
    "<ul>\n",
    "    Alguns métodos que podem ser úteis:\n",
    "    <li>Nomear janela - cv.namedWindow()</li>\n",
    "    <li>Criar 'trackbar' - cv.createTrackbar()</li>\n",
    "    <li>Pegar posição do 'Trackbar' - cv.getTrackbarPos()</li>\n",
    "</ul>"
   ]
  },
  {
   "cell_type": "code",
   "execution_count": 1,
   "id": "9d7f91dd-2233-4a46-b4e2-4f47204e8c73",
   "metadata": {},
   "outputs": [],
   "source": [
    "import cv2 as cv\n",
    "import numpy as np"
   ]
  },
  {
   "cell_type": "code",
   "execution_count": 8,
   "id": "df34b4b7-c606-467d-913f-7983db06694a",
   "metadata": {},
   "outputs": [],
   "source": [
    "#exemplo 1\n",
    "img = np.zeros((512, 512, 3), np.uint8)\n",
    "cv.namedWindow('imagem')\n",
    "\n",
    "def nada(x):\n",
    "    pass\n",
    "    \n",
    "cv.createTrackbar(\"B\", 'imagem', 0, 255, nada)\n",
    "cv.createTrackbar(\"G\", 'imagem', 0, 255, nada)\n",
    "cv.createTrackbar(\"R\", 'imagem', 0, 255, nada)\n",
    "\n",
    "while(True):\n",
    "    cv.imshow('imagem', img)\n",
    "    k = cv.waitKey(1) & 0xFF\n",
    "    if k == 27:\n",
    "        break\n",
    "    \n",
    "    b = cv.getTrackbarPos(\"B\", 'imagem')\n",
    "    g = cv.getTrackbarPos(\"G\", 'imagem')\n",
    "    r = cv.getTrackbarPos(\"R\", 'imagem')\n",
    "    img[:] = [b, g, r]\n",
    "    \n",
    "cv.destroyAllWindows()\n"
   ]
  },
  {
   "cell_type": "code",
   "execution_count": 9,
   "id": "ddac4197-532b-4630-b14f-d5eff257ff52",
   "metadata": {},
   "outputs": [],
   "source": [
    "#exemplo 2 \n",
    "import os \n",
    "os.chdir(\"C:/Users/edub_/OneDrive/Área de Trabalho/PDI - IC/conteudo_p_teste\")\n",
    "\n",
    "def nda(x):\n",
    "    pass\n",
    "    \n",
    "img_lena = cv.imread(\"lena.jpg\")\n",
    "cv.namedWindow(\"imagem_lena\")\n",
    "\n",
    "escolha = \"0 - Cor X 1-Cinza\"\n",
    "cv.createTrackbar(escolha, \"imagem_lena\", 0, 1, nda)\n",
    "\n",
    "img_exibir = img_lena\n",
    "while(1):\n",
    "    cv.imshow(\"imagem_lena\", img_exibir)\n",
    "    k = cv.waitKey(1) & 0xFF\n",
    "    if k == 27:\n",
    "        break\n",
    "\n",
    "    e = cv.getTrackbarPos(escolha, \"imagem_lena\")\n",
    "    if e == 1:\n",
    "        img_exibir = cv.cvtColor(img_lena, cv.COLOR_BGR2GRAY)\n",
    "    else:\n",
    "        img_exibir = img_lena\n",
    "\n",
    "cv.destroyAllWindows()"
   ]
  }
 ],
 "metadata": {
  "kernelspec": {
   "display_name": "Python 3 (ipykernel)",
   "language": "python",
   "name": "python3"
  },
  "language_info": {
   "codemirror_mode": {
    "name": "ipython",
    "version": 3
   },
   "file_extension": ".py",
   "mimetype": "text/x-python",
   "name": "python",
   "nbconvert_exporter": "python",
   "pygments_lexer": "ipython3",
   "version": "3.11.7"
  }
 },
 "nbformat": 4,
 "nbformat_minor": 5
}
