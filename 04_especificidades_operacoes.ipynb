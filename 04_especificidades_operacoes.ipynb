{
 "cells": [
  {
   "cell_type": "markdown",
   "id": "93d771ca-7bca-4414-8798-7add29228e2d",
   "metadata": {},
   "source": [
    "<h1>Especificidades e algumas 'operações' em imagens</h1>\n",
    "<p>Podemos ver algumas especificidades da imagem, como:</p>\n",
    "<ul>\n",
    "    <li>img.shape - saber quantidade de linhas, colunas e 'canais'</li>\n",
    "    <li>img.size - saber quantidade de pixels</li>\n",
    "    <li>img.dtype - saber o tipo dos dados</li>\n",
    "</ul>\n",
    "<p>Alguns exemplos de operações que podemos fazer com as imagens:</p>\n",
    "<ul>\n",
    "    <li>b, g, r = cv.split(img) - dividir a imagem em 'canais'/ matrizes BGR (blue/azul - green/verde - red/vermelho)</li>\n",
    "    <li>cv.merge((b, g, r)) - juntar/ mesclar os 'canais'</li>\n",
    "    <li>cv.add(img1, img2) - para adicionar duas imagens. Para isso ocorrer precisam ter o mesmo tamanho e mesma quantidade de canais</li>\n",
    "    <li>cv.resize(img, (tamanho))</li>\n",
    "    <li>cv.addWeighted(img1, peso1, img2, peso2, escalar) - adicionar com 'peso', define a % que quer de cada imagem</li>\n",
    "</ul>\n",
    "<p>Além disso também podemos trabalhar com ROI ('Region of Interest' - Região de Interesse). <br>\n",
    "É uma parte específica da imagem onde se deseja focar, analisar ou aplicar operações específicas.<br>\n",
    "Para isso, podemos utilizar indexação para, por exemplo, 'copiar' e 'colar' uma parte da imagem em outra.</p>\n",
    "<p>OBS.: A cor azul se refere ao 'canal' 0 <br> Verde - 'canal' 1 <br>Vermelho - 'canal' 2</p>"
   ]
  },
  {
   "cell_type": "code",
   "execution_count": 74,
   "id": "a58f9eb7-203a-4f65-80e3-81b134a9bbb4",
   "metadata": {},
   "outputs": [],
   "source": [
    "import cv2 as cv\n",
    "import os \n",
    "\n",
    "#indicando caminho\n",
    "os.chdir(\"C:/Users/edub_/OneDrive/Área de Trabalho/PDI - IC/conteudo_p_teste\")\n",
    "\n",
    "#lendo imagens que iremos trabalhar\n",
    "img = cv.imread(\"messi5.jpg\")\n",
    "img2 = cv.imread(\"basketball1.png\")"
   ]
  },
  {
   "cell_type": "code",
   "execution_count": 75,
   "id": "99920c41-e127-4145-a452-45aa6cf3c8c8",
   "metadata": {},
   "outputs": [
    {
     "name": "stdout",
     "output_type": "stream",
     "text": [
      "(342, 548, 3)\n",
      "562248\n",
      "uint8\n"
     ]
    }
   ],
   "source": [
    "print(img.shape) #quantidade de linhas, colunas e 'canais'\n",
    "print(img.size) #quantidade de pixels\n",
    "print(img.dtype) #tipo de dados"
   ]
  },
  {
   "cell_type": "code",
   "execution_count": 76,
   "id": "5e6c868c-79f3-4583-a805-29c62b1b1cec",
   "metadata": {},
   "outputs": [],
   "source": [
    "#dividindo a imagem em canais\n",
    "azul, verde, vermelho = cv.split(img)\n",
    "\n",
    "#juntar/ mesclar\n",
    "juncao = cv.merge((azul, verde, vermelho))\n",
    "\n",
    "#Podemos trocar toda matriz de uma cor\n",
    "#img[:,:,0] = 0  #exemplo para deixar todos os valores de azul com intensidade 0\n",
    "\n",
    "#Ao mostrar as duas imagens, percebemos que são as mesmas, comprovando o método de juntar/ mesclar os canais \n",
    "cv.imshow(\"messi\", img)\n",
    "cv.imshow(\"messi_juncao\", juncao)\n",
    "cv.waitKey(0)\n",
    "\n",
    "cv.destroyAllWindows()"
   ]
  },
  {
   "cell_type": "code",
   "execution_count": 77,
   "id": "1ef50071-f17c-4b2b-8fd0-45b24c17e029",
   "metadata": {},
   "outputs": [],
   "source": [
    "#se tentarmos adicionar direto img com img2 dá erro, pois são de tamanhos diferentes\n",
    "\n",
    "#redimensionar as imagens\n",
    "img = cv.resize(img, (512, 512))\n",
    "img2 = cv.resize(img2, (512, 512))\n",
    "\n",
    "#adicionando as imagens\n",
    "adicao = cv.add(img, img2)\n",
    "\n",
    "cv.imshow(\"adicionadas\", adicao)\n",
    "cv.waitKey(0)\n",
    "\n",
    "cv.destroyAllWindows()"
   ]
  },
  {
   "cell_type": "code",
   "execution_count": 78,
   "id": "84691b29-ae7c-4e26-9c9b-b48e252f50e9",
   "metadata": {},
   "outputs": [],
   "source": [
    "#para adicionar com 'peso'\n",
    "adicao_peso = cv.addWeighted(img, .7, img2, .3, 0)\n",
    "\n",
    "cv.imshow(\"adicionadas_peso\", adicao_peso)\n",
    "cv.waitKey(0)\n",
    "\n",
    "cv.destroyAllWindows()"
   ]
  },
  {
   "cell_type": "code",
   "execution_count": 79,
   "id": "ce33b326-6539-4d3f-b297-151b2fd15b83",
   "metadata": {},
   "outputs": [],
   "source": [
    "#Trabalhar com ROI - exemplo 'copiar' e 'colar' a região da bola em outra posição da imagem \"messi5.jpg\"\n",
    "bola = img[430:510, 310:370]\n",
    "img[420:500, 125:185] = bola\n",
    "\n",
    "cv.imshow(\"messi\", img)\n",
    "cv.waitKey(0)\n",
    "\n",
    "cv.destroyAllWindows()"
   ]
  }
 ],
 "metadata": {
  "kernelspec": {
   "display_name": "Python 3 (ipykernel)",
   "language": "python",
   "name": "python3"
  },
  "language_info": {
   "codemirror_mode": {
    "name": "ipython",
    "version": 3
   },
   "file_extension": ".py",
   "mimetype": "text/x-python",
   "name": "python",
   "nbconvert_exporter": "python",
   "pygments_lexer": "ipython3",
   "version": "3.11.7"
  }
 },
 "nbformat": 4,
 "nbformat_minor": 5
}
